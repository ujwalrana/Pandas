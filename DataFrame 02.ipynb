{
 "cells": [
  {
   "cell_type": "markdown",
   "id": "1554f411-b6c5-484e-a994-636ff9633535",
   "metadata": {},
   "source": [
    "## Dataframe - Table"
   ]
  },
  {
   "cell_type": "markdown",
   "id": "ceec66d9-e634-436c-83be-99e801c9e717",
   "metadata": {},
   "source": [
    "** Series either row or column **"
   ]
  },
  {
   "cell_type": "code",
   "execution_count": 2,
   "id": "aeaa11b7-717b-4c54-a182-a866a048e46e",
   "metadata": {},
   "outputs": [],
   "source": [
    "import numpy as np"
   ]
  },
  {
   "cell_type": "code",
   "execution_count": 3,
   "id": "f7c14d46-c6d8-4b1f-a002-0424f1badc84",
   "metadata": {},
   "outputs": [],
   "source": [
    "import pandas as pd"
   ]
  },
  {
   "cell_type": "code",
   "execution_count": 4,
   "id": "f1c570d4-44e6-42bd-a578-273fd0586c8a",
   "metadata": {},
   "outputs": [],
   "source": [
    "a = [\"ujwal\",\"sahil\",\"saransh\",\"harjeet\"]"
   ]
  },
  {
   "cell_type": "code",
   "execution_count": 5,
   "id": "c1698ad9-6b76-4a36-9321-b27ef40841a9",
   "metadata": {},
   "outputs": [
    {
     "data": {
      "text/html": [
       "<div>\n",
       "<style scoped>\n",
       "    .dataframe tbody tr th:only-of-type {\n",
       "        vertical-align: middle;\n",
       "    }\n",
       "\n",
       "    .dataframe tbody tr th {\n",
       "        vertical-align: top;\n",
       "    }\n",
       "\n",
       "    .dataframe thead th {\n",
       "        text-align: right;\n",
       "    }\n",
       "</style>\n",
       "<table border=\"1\" class=\"dataframe\">\n",
       "  <thead>\n",
       "    <tr style=\"text-align: right;\">\n",
       "      <th></th>\n",
       "      <th>0</th>\n",
       "    </tr>\n",
       "  </thead>\n",
       "  <tbody>\n",
       "    <tr>\n",
       "      <th>0</th>\n",
       "      <td>ujwal</td>\n",
       "    </tr>\n",
       "    <tr>\n",
       "      <th>1</th>\n",
       "      <td>sahil</td>\n",
       "    </tr>\n",
       "    <tr>\n",
       "      <th>2</th>\n",
       "      <td>saransh</td>\n",
       "    </tr>\n",
       "    <tr>\n",
       "      <th>3</th>\n",
       "      <td>harjeet</td>\n",
       "    </tr>\n",
       "  </tbody>\n",
       "</table>\n",
       "</div>"
      ],
      "text/plain": [
       "         0\n",
       "0    ujwal\n",
       "1    sahil\n",
       "2  saransh\n",
       "3  harjeet"
      ]
     },
     "execution_count": 5,
     "metadata": {},
     "output_type": "execute_result"
    }
   ],
   "source": [
    "pd.DataFrame(a)"
   ]
  },
  {
   "cell_type": "code",
   "execution_count": 6,
   "id": "0fe04f56-9250-4b2c-993e-aeb37409405b",
   "metadata": {},
   "outputs": [],
   "source": [
    "a = pd.DataFrame(a)"
   ]
  },
  {
   "cell_type": "code",
   "execution_count": 7,
   "id": "39855d62-a5b2-45d0-91d9-d236751e4aed",
   "metadata": {},
   "outputs": [],
   "source": [
    "b = [\"ujwal\",\"harjeet\",\"sahil\",\"saransh\"]"
   ]
  },
  {
   "cell_type": "code",
   "execution_count": 8,
   "id": "848a10c5-714b-4656-919f-7b7f6738481e",
   "metadata": {},
   "outputs": [],
   "source": [
    "b = pd.DataFrame(b, index=[\"A B C D\".split()], columns = [\"Bhaichara\"])"
   ]
  },
  {
   "cell_type": "code",
   "execution_count": 9,
   "id": "08200cd0-ef1e-4507-9504-6c50087bad04",
   "metadata": {},
   "outputs": [
    {
     "data": {
      "text/html": [
       "<div>\n",
       "<style scoped>\n",
       "    .dataframe tbody tr th:only-of-type {\n",
       "        vertical-align: middle;\n",
       "    }\n",
       "\n",
       "    .dataframe tbody tr th {\n",
       "        vertical-align: top;\n",
       "    }\n",
       "\n",
       "    .dataframe thead th {\n",
       "        text-align: right;\n",
       "    }\n",
       "</style>\n",
       "<table border=\"1\" class=\"dataframe\">\n",
       "  <thead>\n",
       "    <tr style=\"text-align: right;\">\n",
       "      <th></th>\n",
       "      <th>Bhaichara</th>\n",
       "    </tr>\n",
       "  </thead>\n",
       "  <tbody>\n",
       "    <tr>\n",
       "      <th>A</th>\n",
       "      <td>ujwal</td>\n",
       "    </tr>\n",
       "    <tr>\n",
       "      <th>B</th>\n",
       "      <td>harjeet</td>\n",
       "    </tr>\n",
       "    <tr>\n",
       "      <th>C</th>\n",
       "      <td>sahil</td>\n",
       "    </tr>\n",
       "    <tr>\n",
       "      <th>D</th>\n",
       "      <td>saransh</td>\n",
       "    </tr>\n",
       "  </tbody>\n",
       "</table>\n",
       "</div>"
      ],
      "text/plain": [
       "  Bhaichara\n",
       "A     ujwal\n",
       "B   harjeet\n",
       "C     sahil\n",
       "D   saransh"
      ]
     },
     "execution_count": 9,
     "metadata": {},
     "output_type": "execute_result"
    }
   ],
   "source": [
    "b"
   ]
  },
  {
   "cell_type": "code",
   "execution_count": 11,
   "id": "6aa56405-3bc2-46b8-868f-d5435ae8f92d",
   "metadata": {},
   "outputs": [
    {
     "data": {
      "text/plain": [
       "A      ujwal\n",
       "B    harjeet\n",
       "C      sahil\n",
       "D    saransh\n",
       "Name: Bhaichara, dtype: object"
      ]
     },
     "execution_count": 11,
     "metadata": {},
     "output_type": "execute_result"
    }
   ],
   "source": [
    "b[\"Bhaichara\"]"
   ]
  },
  {
   "cell_type": "code",
   "execution_count": 12,
   "id": "72e87a0d-6c47-4db0-b435-3920882e64aa",
   "metadata": {},
   "outputs": [
    {
     "data": {
      "text/plain": [
       "pandas.core.frame.DataFrame"
      ]
     },
     "execution_count": 12,
     "metadata": {},
     "output_type": "execute_result"
    }
   ],
   "source": [
    "type(b)"
   ]
  },
  {
   "cell_type": "code",
   "execution_count": 13,
   "id": "56ffe48a-b3b9-4dfe-8d0e-5235438fb8e0",
   "metadata": {},
   "outputs": [
    {
     "data": {
      "text/plain": [
       "pandas.core.series.Series"
      ]
     },
     "execution_count": 13,
     "metadata": {},
     "output_type": "execute_result"
    }
   ],
   "source": [
    "type(b[\"Bhaichara\"])"
   ]
  },
  {
   "cell_type": "markdown",
   "id": "8f76a2b5-a443-44ce-8206-435b53d2a772",
   "metadata": {},
   "source": [
    "#### Mutiple series"
   ]
  },
  {
   "cell_type": "code",
   "execution_count": 14,
   "id": "7e97b115-eba9-4e6c-8220-a36e5e781ca8",
   "metadata": {},
   "outputs": [],
   "source": [
    "name = [\"ujwal\",\"harjeet\",\"sahil\",\"saransh\"]\n",
    "marks = [99,-69,80,100]"
   ]
  },
  {
   "cell_type": "code",
   "execution_count": 15,
   "id": "bb71532d-0c92-403e-9bb9-0218c589b05f",
   "metadata": {},
   "outputs": [
    {
     "data": {
      "text/html": [
       "<div>\n",
       "<style scoped>\n",
       "    .dataframe tbody tr th:only-of-type {\n",
       "        vertical-align: middle;\n",
       "    }\n",
       "\n",
       "    .dataframe tbody tr th {\n",
       "        vertical-align: top;\n",
       "    }\n",
       "\n",
       "    .dataframe thead th {\n",
       "        text-align: right;\n",
       "    }\n",
       "</style>\n",
       "<table border=\"1\" class=\"dataframe\">\n",
       "  <thead>\n",
       "    <tr style=\"text-align: right;\">\n",
       "      <th></th>\n",
       "      <th>0</th>\n",
       "      <th>1</th>\n",
       "      <th>2</th>\n",
       "      <th>3</th>\n",
       "    </tr>\n",
       "  </thead>\n",
       "  <tbody>\n",
       "    <tr>\n",
       "      <th>0</th>\n",
       "      <td>ujwal</td>\n",
       "      <td>harjeet</td>\n",
       "      <td>sahil</td>\n",
       "      <td>saransh</td>\n",
       "    </tr>\n",
       "    <tr>\n",
       "      <th>1</th>\n",
       "      <td>99</td>\n",
       "      <td>-69</td>\n",
       "      <td>80</td>\n",
       "      <td>100</td>\n",
       "    </tr>\n",
       "  </tbody>\n",
       "</table>\n",
       "</div>"
      ],
      "text/plain": [
       "       0        1      2        3\n",
       "0  ujwal  harjeet  sahil  saransh\n",
       "1     99      -69     80      100"
      ]
     },
     "execution_count": 15,
     "metadata": {},
     "output_type": "execute_result"
    }
   ],
   "source": [
    "pd.DataFrame([name,marks])"
   ]
  },
  {
   "cell_type": "code",
   "execution_count": 16,
   "id": "fccb4f0e-2e85-4c75-b2fe-527920758a5e",
   "metadata": {},
   "outputs": [
    {
     "data": {
      "text/html": [
       "<div>\n",
       "<style scoped>\n",
       "    .dataframe tbody tr th:only-of-type {\n",
       "        vertical-align: middle;\n",
       "    }\n",
       "\n",
       "    .dataframe tbody tr th {\n",
       "        vertical-align: top;\n",
       "    }\n",
       "\n",
       "    .dataframe thead th {\n",
       "        text-align: right;\n",
       "    }\n",
       "</style>\n",
       "<table border=\"1\" class=\"dataframe\">\n",
       "  <thead>\n",
       "    <tr style=\"text-align: right;\">\n",
       "      <th></th>\n",
       "      <th>0</th>\n",
       "    </tr>\n",
       "  </thead>\n",
       "  <tbody>\n",
       "    <tr>\n",
       "      <th>99</th>\n",
       "      <td>ujwal</td>\n",
       "    </tr>\n",
       "    <tr>\n",
       "      <th>-69</th>\n",
       "      <td>harjeet</td>\n",
       "    </tr>\n",
       "    <tr>\n",
       "      <th>80</th>\n",
       "      <td>sahil</td>\n",
       "    </tr>\n",
       "    <tr>\n",
       "      <th>100</th>\n",
       "      <td>saransh</td>\n",
       "    </tr>\n",
       "  </tbody>\n",
       "</table>\n",
       "</div>"
      ],
      "text/plain": [
       "            0\n",
       " 99     ujwal\n",
       "-69   harjeet\n",
       " 80     sahil\n",
       " 100  saransh"
      ]
     },
     "execution_count": 16,
     "metadata": {},
     "output_type": "execute_result"
    }
   ],
   "source": [
    "pd.DataFrame(name,marks)"
   ]
  },
  {
   "cell_type": "code",
   "execution_count": 33,
   "id": "d6b657ac-05f5-452d-b42a-35f07e099c55",
   "metadata": {},
   "outputs": [],
   "source": [
    "row1 = [\"ujwal\",23,\"cricketer\", 65]\n",
    "row2 = [\"harjeet\", 25, \"Unemployed\", 66]\n",
    "row3 = [\"sahil\",23, \"Army Man\", 83]"
   ]
  },
  {
   "cell_type": "code",
   "execution_count": 34,
   "id": "f8a5a3df-6646-444b-ba0d-809dad492064",
   "metadata": {},
   "outputs": [],
   "source": [
    "a = [row1,row2,row3]"
   ]
  },
  {
   "cell_type": "code",
   "execution_count": 35,
   "id": "b0af03b9-2960-4535-92af-3e9c97c59d79",
   "metadata": {},
   "outputs": [],
   "source": [
    "b = np.array([row1,row2,row3])"
   ]
  },
  {
   "cell_type": "code",
   "execution_count": 36,
   "id": "48dde0fa-16d7-44e8-a48c-ae9408d29efb",
   "metadata": {},
   "outputs": [
    {
     "data": {
      "text/plain": [
       "[['ujwal', 23, 'cricketer', 65],\n",
       " ['harjeet', 25, 'Unemployed', 66],\n",
       " ['sahil', 23, 'Army Man', 83]]"
      ]
     },
     "execution_count": 36,
     "metadata": {},
     "output_type": "execute_result"
    }
   ],
   "source": [
    "a"
   ]
  },
  {
   "cell_type": "code",
   "execution_count": 37,
   "id": "63cf92a5-bad8-40b4-aedf-144392607937",
   "metadata": {},
   "outputs": [
    {
     "data": {
      "text/plain": [
       "array([['ujwal', '23', 'cricketer', '65'],\n",
       "       ['harjeet', '25', 'Unemployed', '66'],\n",
       "       ['sahil', '23', 'Army Man', '83']], dtype='<U21')"
      ]
     },
     "execution_count": 37,
     "metadata": {},
     "output_type": "execute_result"
    }
   ],
   "source": [
    "b"
   ]
  },
  {
   "cell_type": "code",
   "execution_count": 38,
   "id": "d5dd39db-3458-417e-a00f-1c91756d1249",
   "metadata": {},
   "outputs": [
    {
     "data": {
      "text/html": [
       "<div>\n",
       "<style scoped>\n",
       "    .dataframe tbody tr th:only-of-type {\n",
       "        vertical-align: middle;\n",
       "    }\n",
       "\n",
       "    .dataframe tbody tr th {\n",
       "        vertical-align: top;\n",
       "    }\n",
       "\n",
       "    .dataframe thead th {\n",
       "        text-align: right;\n",
       "    }\n",
       "</style>\n",
       "<table border=\"1\" class=\"dataframe\">\n",
       "  <thead>\n",
       "    <tr style=\"text-align: right;\">\n",
       "      <th></th>\n",
       "      <th>0</th>\n",
       "      <th>1</th>\n",
       "      <th>2</th>\n",
       "      <th>3</th>\n",
       "    </tr>\n",
       "  </thead>\n",
       "  <tbody>\n",
       "    <tr>\n",
       "      <th>0</th>\n",
       "      <td>ujwal</td>\n",
       "      <td>23</td>\n",
       "      <td>cricketer</td>\n",
       "      <td>65</td>\n",
       "    </tr>\n",
       "    <tr>\n",
       "      <th>1</th>\n",
       "      <td>harjeet</td>\n",
       "      <td>25</td>\n",
       "      <td>Unemployed</td>\n",
       "      <td>66</td>\n",
       "    </tr>\n",
       "    <tr>\n",
       "      <th>2</th>\n",
       "      <td>sahil</td>\n",
       "      <td>23</td>\n",
       "      <td>Army Man</td>\n",
       "      <td>83</td>\n",
       "    </tr>\n",
       "  </tbody>\n",
       "</table>\n",
       "</div>"
      ],
      "text/plain": [
       "         0   1           2   3\n",
       "0    ujwal  23   cricketer  65\n",
       "1  harjeet  25  Unemployed  66\n",
       "2    sahil  23    Army Man  83"
      ]
     },
     "execution_count": 38,
     "metadata": {},
     "output_type": "execute_result"
    }
   ],
   "source": [
    "pd.DataFrame(a)"
   ]
  },
  {
   "cell_type": "code",
   "execution_count": 39,
   "id": "7f7fb032-c6e0-4ea4-a568-ad1756b1b9a0",
   "metadata": {},
   "outputs": [
    {
     "data": {
      "text/html": [
       "<div>\n",
       "<style scoped>\n",
       "    .dataframe tbody tr th:only-of-type {\n",
       "        vertical-align: middle;\n",
       "    }\n",
       "\n",
       "    .dataframe tbody tr th {\n",
       "        vertical-align: top;\n",
       "    }\n",
       "\n",
       "    .dataframe thead th {\n",
       "        text-align: right;\n",
       "    }\n",
       "</style>\n",
       "<table border=\"1\" class=\"dataframe\">\n",
       "  <thead>\n",
       "    <tr style=\"text-align: right;\">\n",
       "      <th></th>\n",
       "      <th>0</th>\n",
       "      <th>1</th>\n",
       "      <th>2</th>\n",
       "      <th>3</th>\n",
       "    </tr>\n",
       "  </thead>\n",
       "  <tbody>\n",
       "    <tr>\n",
       "      <th>0</th>\n",
       "      <td>ujwal</td>\n",
       "      <td>23</td>\n",
       "      <td>cricketer</td>\n",
       "      <td>65</td>\n",
       "    </tr>\n",
       "    <tr>\n",
       "      <th>1</th>\n",
       "      <td>harjeet</td>\n",
       "      <td>25</td>\n",
       "      <td>Unemployed</td>\n",
       "      <td>66</td>\n",
       "    </tr>\n",
       "    <tr>\n",
       "      <th>2</th>\n",
       "      <td>sahil</td>\n",
       "      <td>23</td>\n",
       "      <td>Army Man</td>\n",
       "      <td>83</td>\n",
       "    </tr>\n",
       "  </tbody>\n",
       "</table>\n",
       "</div>"
      ],
      "text/plain": [
       "         0   1           2   3\n",
       "0    ujwal  23   cricketer  65\n",
       "1  harjeet  25  Unemployed  66\n",
       "2    sahil  23    Army Man  83"
      ]
     },
     "execution_count": 39,
     "metadata": {},
     "output_type": "execute_result"
    }
   ],
   "source": [
    "pd.DataFrame(b)"
   ]
  },
  {
   "cell_type": "code",
   "execution_count": 40,
   "id": "094f3a7f-cd22-4237-ac56-6b67b65e4bed",
   "metadata": {},
   "outputs": [],
   "source": [
    "indexes = \"A B C\".split()"
   ]
  },
  {
   "cell_type": "code",
   "execution_count": 41,
   "id": "6209f03c-216b-4d94-80b1-734bf1387db8",
   "metadata": {},
   "outputs": [],
   "source": [
    "columns = \"name age work weight\".split()"
   ]
  },
  {
   "cell_type": "code",
   "execution_count": 42,
   "id": "2b0a6b86-26d5-4723-931d-e47faecde183",
   "metadata": {},
   "outputs": [
    {
     "data": {
      "text/html": [
       "<div>\n",
       "<style scoped>\n",
       "    .dataframe tbody tr th:only-of-type {\n",
       "        vertical-align: middle;\n",
       "    }\n",
       "\n",
       "    .dataframe tbody tr th {\n",
       "        vertical-align: top;\n",
       "    }\n",
       "\n",
       "    .dataframe thead th {\n",
       "        text-align: right;\n",
       "    }\n",
       "</style>\n",
       "<table border=\"1\" class=\"dataframe\">\n",
       "  <thead>\n",
       "    <tr style=\"text-align: right;\">\n",
       "      <th></th>\n",
       "      <th>name</th>\n",
       "      <th>age</th>\n",
       "      <th>work</th>\n",
       "      <th>weight</th>\n",
       "    </tr>\n",
       "  </thead>\n",
       "  <tbody>\n",
       "    <tr>\n",
       "      <th>A</th>\n",
       "      <td>ujwal</td>\n",
       "      <td>23</td>\n",
       "      <td>cricketer</td>\n",
       "      <td>65</td>\n",
       "    </tr>\n",
       "    <tr>\n",
       "      <th>B</th>\n",
       "      <td>harjeet</td>\n",
       "      <td>25</td>\n",
       "      <td>Unemployed</td>\n",
       "      <td>66</td>\n",
       "    </tr>\n",
       "    <tr>\n",
       "      <th>C</th>\n",
       "      <td>sahil</td>\n",
       "      <td>23</td>\n",
       "      <td>Army Man</td>\n",
       "      <td>83</td>\n",
       "    </tr>\n",
       "  </tbody>\n",
       "</table>\n",
       "</div>"
      ],
      "text/plain": [
       "      name  age        work  weight\n",
       "A    ujwal   23   cricketer      65\n",
       "B  harjeet   25  Unemployed      66\n",
       "C    sahil   23    Army Man      83"
      ]
     },
     "execution_count": 42,
     "metadata": {},
     "output_type": "execute_result"
    }
   ],
   "source": [
    "pd.DataFrame(a,indexes,columns)"
   ]
  },
  {
   "cell_type": "code",
   "execution_count": 43,
   "id": "4e777215-b334-427f-8c07-10d7e985b63f",
   "metadata": {},
   "outputs": [],
   "source": [
    "df = pd.DataFrame(a,indexes,columns)"
   ]
  },
  {
   "cell_type": "code",
   "execution_count": 44,
   "id": "5cb9c9b2-76ab-439b-b388-b89d4a282bcd",
   "metadata": {},
   "outputs": [
    {
     "data": {
      "text/html": [
       "<div>\n",
       "<style scoped>\n",
       "    .dataframe tbody tr th:only-of-type {\n",
       "        vertical-align: middle;\n",
       "    }\n",
       "\n",
       "    .dataframe tbody tr th {\n",
       "        vertical-align: top;\n",
       "    }\n",
       "\n",
       "    .dataframe thead th {\n",
       "        text-align: right;\n",
       "    }\n",
       "</style>\n",
       "<table border=\"1\" class=\"dataframe\">\n",
       "  <thead>\n",
       "    <tr style=\"text-align: right;\">\n",
       "      <th></th>\n",
       "      <th>name</th>\n",
       "      <th>age</th>\n",
       "      <th>work</th>\n",
       "      <th>weight</th>\n",
       "    </tr>\n",
       "  </thead>\n",
       "  <tbody>\n",
       "    <tr>\n",
       "      <th>A</th>\n",
       "      <td>ujwal</td>\n",
       "      <td>23</td>\n",
       "      <td>cricketer</td>\n",
       "      <td>65</td>\n",
       "    </tr>\n",
       "    <tr>\n",
       "      <th>B</th>\n",
       "      <td>harjeet</td>\n",
       "      <td>25</td>\n",
       "      <td>Unemployed</td>\n",
       "      <td>66</td>\n",
       "    </tr>\n",
       "    <tr>\n",
       "      <th>C</th>\n",
       "      <td>sahil</td>\n",
       "      <td>23</td>\n",
       "      <td>Army Man</td>\n",
       "      <td>83</td>\n",
       "    </tr>\n",
       "  </tbody>\n",
       "</table>\n",
       "</div>"
      ],
      "text/plain": [
       "      name  age        work  weight\n",
       "A    ujwal   23   cricketer      65\n",
       "B  harjeet   25  Unemployed      66\n",
       "C    sahil   23    Army Man      83"
      ]
     },
     "execution_count": 44,
     "metadata": {},
     "output_type": "execute_result"
    }
   ],
   "source": [
    "df"
   ]
  },
  {
   "cell_type": "code",
   "execution_count": 45,
   "id": "8ee3344b-6136-4308-a6b1-5c21414eb75d",
   "metadata": {},
   "outputs": [
    {
     "name": "stdout",
     "output_type": "stream",
     "text": [
      "      name  age        work  weight\n",
      "A    ujwal   23   cricketer      65\n",
      "B  harjeet   25  Unemployed      66\n",
      "C    sahil   23    Army Man      83\n"
     ]
    }
   ],
   "source": [
    "print(df)"
   ]
  },
  {
   "cell_type": "markdown",
   "id": "6afb71f4-0c8c-4165-9714-0a985e008afe",
   "metadata": {},
   "source": [
    "#### Putting Data through dictionary"
   ]
  },
  {
   "cell_type": "code",
   "execution_count": 46,
   "id": "bc189301-592c-42e5-80dd-bda0e187161d",
   "metadata": {},
   "outputs": [],
   "source": [
    "d = {\n",
    "    1:[\"ujwal\",20,'netmax',65],\n",
    "    2:[\"harjeet\",21,'netmax',63],\n",
    "    3:[\"sahil\",22,'netmax',69]\n",
    "}"
   ]
  },
  {
   "cell_type": "code",
   "execution_count": 49,
   "id": "a5697869-ce51-4846-8d0c-5e7874e69408",
   "metadata": {},
   "outputs": [
    {
     "data": {
      "text/html": [
       "<div>\n",
       "<style scoped>\n",
       "    .dataframe tbody tr th:only-of-type {\n",
       "        vertical-align: middle;\n",
       "    }\n",
       "\n",
       "    .dataframe tbody tr th {\n",
       "        vertical-align: top;\n",
       "    }\n",
       "\n",
       "    .dataframe thead th {\n",
       "        text-align: right;\n",
       "    }\n",
       "</style>\n",
       "<table border=\"1\" class=\"dataframe\">\n",
       "  <thead>\n",
       "    <tr style=\"text-align: right;\">\n",
       "      <th></th>\n",
       "      <th>1</th>\n",
       "      <th>2</th>\n",
       "      <th>3</th>\n",
       "    </tr>\n",
       "  </thead>\n",
       "  <tbody>\n",
       "    <tr>\n",
       "      <th>0</th>\n",
       "      <td>ujwal</td>\n",
       "      <td>harjeet</td>\n",
       "      <td>sahil</td>\n",
       "    </tr>\n",
       "    <tr>\n",
       "      <th>1</th>\n",
       "      <td>20</td>\n",
       "      <td>21</td>\n",
       "      <td>22</td>\n",
       "    </tr>\n",
       "    <tr>\n",
       "      <th>2</th>\n",
       "      <td>netmax</td>\n",
       "      <td>netmax</td>\n",
       "      <td>netmax</td>\n",
       "    </tr>\n",
       "    <tr>\n",
       "      <th>3</th>\n",
       "      <td>65</td>\n",
       "      <td>63</td>\n",
       "      <td>69</td>\n",
       "    </tr>\n",
       "  </tbody>\n",
       "</table>\n",
       "</div>"
      ],
      "text/plain": [
       "        1        2       3\n",
       "0   ujwal  harjeet   sahil\n",
       "1      20       21      22\n",
       "2  netmax   netmax  netmax\n",
       "3      65       63      69"
      ]
     },
     "execution_count": 49,
     "metadata": {},
     "output_type": "execute_result"
    }
   ],
   "source": [
    "pd.DataFrame(d)"
   ]
  },
  {
   "cell_type": "code",
   "execution_count": 50,
   "id": "3a49f609-9a88-48b8-b41d-235e49c857bb",
   "metadata": {},
   "outputs": [
    {
     "data": {
      "text/html": [
       "<div>\n",
       "<style scoped>\n",
       "    .dataframe tbody tr th:only-of-type {\n",
       "        vertical-align: middle;\n",
       "    }\n",
       "\n",
       "    .dataframe tbody tr th {\n",
       "        vertical-align: top;\n",
       "    }\n",
       "\n",
       "    .dataframe thead th {\n",
       "        text-align: right;\n",
       "    }\n",
       "</style>\n",
       "<table border=\"1\" class=\"dataframe\">\n",
       "  <thead>\n",
       "    <tr style=\"text-align: right;\">\n",
       "      <th></th>\n",
       "      <th>0</th>\n",
       "      <th>1</th>\n",
       "      <th>2</th>\n",
       "      <th>3</th>\n",
       "    </tr>\n",
       "  </thead>\n",
       "  <tbody>\n",
       "    <tr>\n",
       "      <th>1</th>\n",
       "      <td>ujwal</td>\n",
       "      <td>20</td>\n",
       "      <td>netmax</td>\n",
       "      <td>65</td>\n",
       "    </tr>\n",
       "    <tr>\n",
       "      <th>2</th>\n",
       "      <td>harjeet</td>\n",
       "      <td>21</td>\n",
       "      <td>netmax</td>\n",
       "      <td>63</td>\n",
       "    </tr>\n",
       "    <tr>\n",
       "      <th>3</th>\n",
       "      <td>sahil</td>\n",
       "      <td>22</td>\n",
       "      <td>netmax</td>\n",
       "      <td>69</td>\n",
       "    </tr>\n",
       "  </tbody>\n",
       "</table>\n",
       "</div>"
      ],
      "text/plain": [
       "         0   1       2   3\n",
       "1    ujwal  20  netmax  65\n",
       "2  harjeet  21  netmax  63\n",
       "3    sahil  22  netmax  69"
      ]
     },
     "execution_count": 50,
     "metadata": {},
     "output_type": "execute_result"
    }
   ],
   "source": [
    "pd.DataFrame(d).T"
   ]
  },
  {
   "cell_type": "code",
   "execution_count": 51,
   "id": "d5068e40-6836-446a-8a59-fc356de19d59",
   "metadata": {},
   "outputs": [],
   "source": [
    "d = {\n",
    "    \"name\": [\"ujwal\",\"sahil\",\"harjeet\"],\n",
    "    \"age\": [21,23,22],\n",
    "    \"weight\":[62,70,56]\n",
    "}"
   ]
  },
  {
   "cell_type": "code",
   "execution_count": 52,
   "id": "b648c28c-d060-4786-a2bb-6f27d4d4abc1",
   "metadata": {},
   "outputs": [
    {
     "data": {
      "text/plain": [
       "{'name': ['ujwal', 'sahil', 'harjeet'],\n",
       " 'age': [21, 23, 22],\n",
       " 'weight': [62, 70, 56]}"
      ]
     },
     "execution_count": 52,
     "metadata": {},
     "output_type": "execute_result"
    }
   ],
   "source": [
    "d"
   ]
  },
  {
   "cell_type": "code",
   "execution_count": 53,
   "id": "7b67c820-db36-4f79-98c6-2b03b1706cd0",
   "metadata": {},
   "outputs": [
    {
     "data": {
      "text/html": [
       "<div>\n",
       "<style scoped>\n",
       "    .dataframe tbody tr th:only-of-type {\n",
       "        vertical-align: middle;\n",
       "    }\n",
       "\n",
       "    .dataframe tbody tr th {\n",
       "        vertical-align: top;\n",
       "    }\n",
       "\n",
       "    .dataframe thead th {\n",
       "        text-align: right;\n",
       "    }\n",
       "</style>\n",
       "<table border=\"1\" class=\"dataframe\">\n",
       "  <thead>\n",
       "    <tr style=\"text-align: right;\">\n",
       "      <th></th>\n",
       "      <th>name</th>\n",
       "      <th>age</th>\n",
       "      <th>weight</th>\n",
       "    </tr>\n",
       "  </thead>\n",
       "  <tbody>\n",
       "    <tr>\n",
       "      <th>0</th>\n",
       "      <td>ujwal</td>\n",
       "      <td>21</td>\n",
       "      <td>62</td>\n",
       "    </tr>\n",
       "    <tr>\n",
       "      <th>1</th>\n",
       "      <td>sahil</td>\n",
       "      <td>23</td>\n",
       "      <td>70</td>\n",
       "    </tr>\n",
       "    <tr>\n",
       "      <th>2</th>\n",
       "      <td>harjeet</td>\n",
       "      <td>22</td>\n",
       "      <td>56</td>\n",
       "    </tr>\n",
       "  </tbody>\n",
       "</table>\n",
       "</div>"
      ],
      "text/plain": [
       "      name  age  weight\n",
       "0    ujwal   21      62\n",
       "1    sahil   23      70\n",
       "2  harjeet   22      56"
      ]
     },
     "execution_count": 53,
     "metadata": {},
     "output_type": "execute_result"
    }
   ],
   "source": [
    "pd.DataFrame(d)"
   ]
  },
  {
   "cell_type": "code",
   "execution_count": 54,
   "id": "92da9acc-8237-43fa-bc0a-bad3e9a7e78a",
   "metadata": {},
   "outputs": [
    {
     "data": {
      "text/html": [
       "<div>\n",
       "<style scoped>\n",
       "    .dataframe tbody tr th:only-of-type {\n",
       "        vertical-align: middle;\n",
       "    }\n",
       "\n",
       "    .dataframe tbody tr th {\n",
       "        vertical-align: top;\n",
       "    }\n",
       "\n",
       "    .dataframe thead th {\n",
       "        text-align: right;\n",
       "    }\n",
       "</style>\n",
       "<table border=\"1\" class=\"dataframe\">\n",
       "  <thead>\n",
       "    <tr style=\"text-align: right;\">\n",
       "      <th></th>\n",
       "      <th>name</th>\n",
       "      <th>age</th>\n",
       "      <th>weight</th>\n",
       "    </tr>\n",
       "  </thead>\n",
       "  <tbody>\n",
       "    <tr>\n",
       "      <th>100</th>\n",
       "      <td>ujwal</td>\n",
       "      <td>21</td>\n",
       "      <td>62</td>\n",
       "    </tr>\n",
       "    <tr>\n",
       "      <th>101</th>\n",
       "      <td>sahil</td>\n",
       "      <td>23</td>\n",
       "      <td>70</td>\n",
       "    </tr>\n",
       "    <tr>\n",
       "      <th>102</th>\n",
       "      <td>harjeet</td>\n",
       "      <td>22</td>\n",
       "      <td>56</td>\n",
       "    </tr>\n",
       "  </tbody>\n",
       "</table>\n",
       "</div>"
      ],
      "text/plain": [
       "        name  age  weight\n",
       "100    ujwal   21      62\n",
       "101    sahil   23      70\n",
       "102  harjeet   22      56"
      ]
     },
     "execution_count": 54,
     "metadata": {},
     "output_type": "execute_result"
    }
   ],
   "source": [
    "pd.DataFrame(d, index=range(100,103))"
   ]
  },
  {
   "cell_type": "code",
   "execution_count": 55,
   "id": "f46a68a4-673b-4235-902a-27b7966487cd",
   "metadata": {},
   "outputs": [],
   "source": [
    "d = pd.DataFrame(d, index=range(100,103))"
   ]
  },
  {
   "cell_type": "code",
   "execution_count": 56,
   "id": "78005057-a0bd-4851-9dac-abefcc8ce60b",
   "metadata": {},
   "outputs": [
    {
     "data": {
      "text/html": [
       "<div>\n",
       "<style scoped>\n",
       "    .dataframe tbody tr th:only-of-type {\n",
       "        vertical-align: middle;\n",
       "    }\n",
       "\n",
       "    .dataframe tbody tr th {\n",
       "        vertical-align: top;\n",
       "    }\n",
       "\n",
       "    .dataframe thead th {\n",
       "        text-align: right;\n",
       "    }\n",
       "</style>\n",
       "<table border=\"1\" class=\"dataframe\">\n",
       "  <thead>\n",
       "    <tr style=\"text-align: right;\">\n",
       "      <th></th>\n",
       "      <th>name</th>\n",
       "      <th>age</th>\n",
       "      <th>weight</th>\n",
       "    </tr>\n",
       "  </thead>\n",
       "  <tbody>\n",
       "    <tr>\n",
       "      <th>100</th>\n",
       "      <td>ujwal</td>\n",
       "      <td>21</td>\n",
       "      <td>62</td>\n",
       "    </tr>\n",
       "    <tr>\n",
       "      <th>101</th>\n",
       "      <td>sahil</td>\n",
       "      <td>23</td>\n",
       "      <td>70</td>\n",
       "    </tr>\n",
       "    <tr>\n",
       "      <th>102</th>\n",
       "      <td>harjeet</td>\n",
       "      <td>22</td>\n",
       "      <td>56</td>\n",
       "    </tr>\n",
       "  </tbody>\n",
       "</table>\n",
       "</div>"
      ],
      "text/plain": [
       "        name  age  weight\n",
       "100    ujwal   21      62\n",
       "101    sahil   23      70\n",
       "102  harjeet   22      56"
      ]
     },
     "execution_count": 56,
     "metadata": {},
     "output_type": "execute_result"
    }
   ],
   "source": [
    "d"
   ]
  },
  {
   "cell_type": "code",
   "execution_count": null,
   "id": "9d49fb68-207d-4e19-ac25-f35dc99e2dee",
   "metadata": {},
   "outputs": [],
   "source": []
  },
  {
   "cell_type": "code",
   "execution_count": null,
   "id": "e8e68e93-665c-4274-a4b4-cbdb06075131",
   "metadata": {},
   "outputs": [],
   "source": []
  }
 ],
 "metadata": {
  "kernelspec": {
   "display_name": "Python 3 (ipykernel)",
   "language": "python",
   "name": "python3"
  },
  "language_info": {
   "codemirror_mode": {
    "name": "ipython",
    "version": 3
   },
   "file_extension": ".py",
   "mimetype": "text/x-python",
   "name": "python",
   "nbconvert_exporter": "python",
   "pygments_lexer": "ipython3",
   "version": "3.13.5"
  }
 },
 "nbformat": 4,
 "nbformat_minor": 5
}
