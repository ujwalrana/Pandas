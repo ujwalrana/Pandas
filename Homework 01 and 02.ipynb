{
 "cells": [
  {
   "cell_type": "markdown",
   "id": "41e8e97e-be9c-47d2-8854-dadffa542290",
   "metadata": {},
   "source": [
    "#### Pandas"
   ]
  },
  {
   "cell_type": "markdown",
   "id": "6e5043fc-c597-4a2c-a2d4-1dd615eca4f1",
   "metadata": {
    "jp-MarkdownHeadingCollapsed": true
   },
   "source": [
    "##### Serirs 01"
   ]
  },
  {
   "cell_type": "code",
   "execution_count": 1,
   "id": "b5769618-dd6f-4d20-be07-53b30aa217be",
   "metadata": {},
   "outputs": [],
   "source": [
    "import numpy as np\n",
    "import pandas as pd"
   ]
  },
  {
   "cell_type": "code",
   "execution_count": 2,
   "id": "90ff635b-c5fa-4c50-8700-6b4dd751d02b",
   "metadata": {},
   "outputs": [],
   "source": [
    "li = ['shubham','abhi','akash']"
   ]
  },
  {
   "cell_type": "code",
   "execution_count": 3,
   "id": "5daed42b-a063-436b-87e5-c73cb52992df",
   "metadata": {},
   "outputs": [],
   "source": [
    "a = pd.Series(li)"
   ]
  },
  {
   "cell_type": "code",
   "execution_count": 4,
   "id": "56cd186f-3cd8-4183-ae7a-57182119d274",
   "metadata": {},
   "outputs": [
    {
     "data": {
      "text/plain": [
       "0    shubham\n",
       "1       abhi\n",
       "2      akash\n",
       "dtype: object"
      ]
     },
     "execution_count": 4,
     "metadata": {},
     "output_type": "execute_result"
    }
   ],
   "source": [
    "a"
   ]
  },
  {
   "cell_type": "code",
   "execution_count": 7,
   "id": "cd8241f3-3183-4454-a89d-f59e1a2c052a",
   "metadata": {},
   "outputs": [],
   "source": [
    "a = pd.Series(li,index=\"A B C\". split())"
   ]
  },
  {
   "cell_type": "code",
   "execution_count": 8,
   "id": "b6f70961-71c9-4f8f-8eef-b91fb2cdc69d",
   "metadata": {},
   "outputs": [
    {
     "data": {
      "text/plain": [
       "A    shubham\n",
       "B       abhi\n",
       "C      akash\n",
       "dtype: object"
      ]
     },
     "execution_count": 8,
     "metadata": {},
     "output_type": "execute_result"
    }
   ],
   "source": [
    "a"
   ]
  },
  {
   "cell_type": "code",
   "execution_count": 9,
   "id": "d7b6036e-2d26-496a-9626-06016e8e401b",
   "metadata": {},
   "outputs": [],
   "source": [
    "li = [\"Sullah\",\"Palampur\",\"Thulel\"]"
   ]
  },
  {
   "cell_type": "code",
   "execution_count": 10,
   "id": "54c9fe31-9527-4665-b53e-605734946329",
   "metadata": {},
   "outputs": [],
   "source": [
    "a = pd.Series(li)"
   ]
  },
  {
   "cell_type": "code",
   "execution_count": 11,
   "id": "7c7e0678-ec59-4674-8dc9-48605394cdb0",
   "metadata": {},
   "outputs": [
    {
     "data": {
      "text/plain": [
       "0      Sullah\n",
       "1    Palampur\n",
       "2      Thulel\n",
       "dtype: object"
      ]
     },
     "execution_count": 11,
     "metadata": {},
     "output_type": "execute_result"
    }
   ],
   "source": [
    "a"
   ]
  },
  {
   "cell_type": "code",
   "execution_count": 25,
   "id": "5eefa019-a9e1-4808-bf9e-1e3808dd38b8",
   "metadata": {},
   "outputs": [],
   "source": [
    "a = pd.Series([50,20,60], index=\"A B C\".split(), name=\"marks\")"
   ]
  },
  {
   "cell_type": "code",
   "execution_count": 26,
   "id": "87483e44-93a4-447f-b972-4b6590eaa80f",
   "metadata": {},
   "outputs": [
    {
     "data": {
      "text/plain": [
       "A    50\n",
       "B    20\n",
       "C    60\n",
       "Name: marks, dtype: int64"
      ]
     },
     "execution_count": 26,
     "metadata": {},
     "output_type": "execute_result"
    }
   ],
   "source": [
    "a"
   ]
  },
  {
   "cell_type": "code",
   "execution_count": 27,
   "id": "6cabecbd-3c05-4014-9bcf-d9fd67f9958b",
   "metadata": {},
   "outputs": [],
   "source": [
    "s = pd.Series([30,30,30],index=\"A B C\".split(), name=\"Company\")"
   ]
  },
  {
   "cell_type": "code",
   "execution_count": 28,
   "id": "f2d4a7e1-b039-4ca9-b6bb-91fbb735d078",
   "metadata": {},
   "outputs": [
    {
     "data": {
      "text/plain": [
       "A    30\n",
       "B    30\n",
       "C    30\n",
       "Name: Company, dtype: int64"
      ]
     },
     "execution_count": 28,
     "metadata": {},
     "output_type": "execute_result"
    }
   ],
   "source": [
    "s"
   ]
  },
  {
   "cell_type": "code",
   "execution_count": 29,
   "id": "c972d377-73b7-4749-bbf5-04544e589355",
   "metadata": {},
   "outputs": [
    {
     "data": {
      "text/plain": [
       "A    60\n",
       "B    60\n",
       "C    60\n",
       "Name: Company, dtype: int64"
      ]
     },
     "execution_count": 29,
     "metadata": {},
     "output_type": "execute_result"
    }
   ],
   "source": [
    "s * 2"
   ]
  },
  {
   "cell_type": "code",
   "execution_count": 30,
   "id": "2940f715-3da4-4a02-990a-ce7eb21150aa",
   "metadata": {},
   "outputs": [
    {
     "data": {
      "text/plain": [
       "A    15.0\n",
       "B    15.0\n",
       "C    15.0\n",
       "Name: Company, dtype: float64"
      ]
     },
     "execution_count": 30,
     "metadata": {},
     "output_type": "execute_result"
    }
   ],
   "source": [
    "s/2"
   ]
  },
  {
   "cell_type": "code",
   "execution_count": 31,
   "id": "93be7cb8-2b3b-48b9-b995-acbd34a6a1db",
   "metadata": {},
   "outputs": [
    {
     "data": {
      "text/plain": [
       "A    33\n",
       "B    33\n",
       "C    33\n",
       "Name: Company, dtype: int64"
      ]
     },
     "execution_count": 31,
     "metadata": {},
     "output_type": "execute_result"
    }
   ],
   "source": [
    "s+3"
   ]
  },
  {
   "cell_type": "code",
   "execution_count": 32,
   "id": "58faa04e-0cd1-4fef-99f2-aa33a96b735f",
   "metadata": {},
   "outputs": [
    {
     "data": {
      "text/plain": [
       "A    30\n",
       "B    30\n",
       "C    30\n",
       "Name: Company, dtype: int64"
      ]
     },
     "execution_count": 32,
     "metadata": {},
     "output_type": "execute_result"
    }
   ],
   "source": [
    "s"
   ]
  },
  {
   "cell_type": "code",
   "execution_count": 33,
   "id": "829abffc-c842-4c2d-a31a-36435c30d945",
   "metadata": {},
   "outputs": [],
   "source": [
    "li = [\"Sullah\",\"Palampur\",\"Thulel\"]"
   ]
  },
  {
   "cell_type": "code",
   "execution_count": 38,
   "id": "f9468030-7da2-4b09-b426-fa53adb3b31b",
   "metadata": {},
   "outputs": [],
   "source": [
    "a = pd.Series([500,450,400],index=\"1 2 3\".split(),name = \"Places\",)"
   ]
  },
  {
   "cell_type": "code",
   "execution_count": 39,
   "id": "01a49776-aef5-4063-b715-f032bc2925e2",
   "metadata": {},
   "outputs": [
    {
     "data": {
      "text/plain": [
       "1    500\n",
       "2    450\n",
       "3    400\n",
       "Name: Places, dtype: int64"
      ]
     },
     "execution_count": 39,
     "metadata": {},
     "output_type": "execute_result"
    }
   ],
   "source": [
    "a"
   ]
  },
  {
   "cell_type": "markdown",
   "id": "d18bf329-ec9a-456a-ac5b-2b60e032cfd5",
   "metadata": {},
   "source": [
    "##### DataFrame"
   ]
  },
  {
   "cell_type": "code",
   "execution_count": 40,
   "id": "c396844e-51d2-4c79-bfb8-8280e866cccd",
   "metadata": {},
   "outputs": [],
   "source": [
    "a = [\"ujwal\",\"sahil\",\"saransh\",\"harjeet\"]"
   ]
  },
  {
   "cell_type": "code",
   "execution_count": 48,
   "id": "7521c33b-f1c7-4bc2-8a71-d42df1e110d3",
   "metadata": {},
   "outputs": [
    {
     "data": {
      "text/html": [
       "<div>\n",
       "<style scoped>\n",
       "    .dataframe tbody tr th:only-of-type {\n",
       "        vertical-align: middle;\n",
       "    }\n",
       "\n",
       "    .dataframe tbody tr th {\n",
       "        vertical-align: top;\n",
       "    }\n",
       "\n",
       "    .dataframe thead th {\n",
       "        text-align: right;\n",
       "    }\n",
       "</style>\n",
       "<table border=\"1\" class=\"dataframe\">\n",
       "  <thead>\n",
       "    <tr style=\"text-align: right;\">\n",
       "      <th></th>\n",
       "      <th>0</th>\n",
       "    </tr>\n",
       "  </thead>\n",
       "  <tbody>\n",
       "    <tr>\n",
       "      <th>20</th>\n",
       "      <td>NaN</td>\n",
       "    </tr>\n",
       "    <tr>\n",
       "      <th>292</th>\n",
       "      <td>NaN</td>\n",
       "    </tr>\n",
       "    <tr>\n",
       "      <th>38</th>\n",
       "      <td>NaN</td>\n",
       "    </tr>\n",
       "  </tbody>\n",
       "</table>\n",
       "</div>"
      ],
      "text/plain": [
       "      0\n",
       "20  NaN\n",
       "292 NaN\n",
       "38  NaN"
      ]
     },
     "execution_count": 48,
     "metadata": {},
     "output_type": "execute_result"
    }
   ],
   "source": [
    "pd.DataFrame(a)"
   ]
  },
  {
   "cell_type": "code",
   "execution_count": 53,
   "id": "2dc5708e-73eb-47e1-af59-c23dd25ac124",
   "metadata": {},
   "outputs": [
    {
     "data": {
      "text/html": [
       "<div>\n",
       "<style scoped>\n",
       "    .dataframe tbody tr th:only-of-type {\n",
       "        vertical-align: middle;\n",
       "    }\n",
       "\n",
       "    .dataframe tbody tr th {\n",
       "        vertical-align: top;\n",
       "    }\n",
       "\n",
       "    .dataframe thead th {\n",
       "        text-align: right;\n",
       "    }\n",
       "</style>\n",
       "<table border=\"1\" class=\"dataframe\">\n",
       "  <thead>\n",
       "    <tr style=\"text-align: right;\">\n",
       "      <th></th>\n",
       "      <th>0</th>\n",
       "    </tr>\n",
       "  </thead>\n",
       "  <tbody>\n",
       "    <tr>\n",
       "      <th>0</th>\n",
       "      <td>20</td>\n",
       "    </tr>\n",
       "    <tr>\n",
       "      <th>1</th>\n",
       "      <td>292</td>\n",
       "    </tr>\n",
       "    <tr>\n",
       "      <th>2</th>\n",
       "      <td>38</td>\n",
       "    </tr>\n",
       "  </tbody>\n",
       "</table>\n",
       "</div>"
      ],
      "text/plain": [
       "     0\n",
       "0   20\n",
       "1  292\n",
       "2   38"
      ]
     },
     "execution_count": 53,
     "metadata": {},
     "output_type": "execute_result"
    }
   ],
   "source": [
    "pd.DataFrame([20,292,38])"
   ]
  },
  {
   "cell_type": "code",
   "execution_count": 55,
   "id": "579d7ffc-ef5a-44e6-8fdc-ea9e56545ef7",
   "metadata": {},
   "outputs": [],
   "source": [
    "b = [\"ujwal\",\"harjeet\",\"sahil\",\"saransh\"]"
   ]
  },
  {
   "cell_type": "code",
   "execution_count": 56,
   "id": "2ad5f156-6808-49f8-8918-d0cf882ec5e9",
   "metadata": {},
   "outputs": [],
   "source": [
    "b = pd.DataFrame(b, index=[\"A B C D\".split()], columns = [\"Bhaichara\"])"
   ]
  },
  {
   "cell_type": "code",
   "execution_count": 57,
   "id": "264386ac-6c2b-479c-8d17-7fadc62eeff2",
   "metadata": {},
   "outputs": [
    {
     "data": {
      "text/html": [
       "<div>\n",
       "<style scoped>\n",
       "    .dataframe tbody tr th:only-of-type {\n",
       "        vertical-align: middle;\n",
       "    }\n",
       "\n",
       "    .dataframe tbody tr th {\n",
       "        vertical-align: top;\n",
       "    }\n",
       "\n",
       "    .dataframe thead th {\n",
       "        text-align: right;\n",
       "    }\n",
       "</style>\n",
       "<table border=\"1\" class=\"dataframe\">\n",
       "  <thead>\n",
       "    <tr style=\"text-align: right;\">\n",
       "      <th></th>\n",
       "      <th>Bhaichara</th>\n",
       "    </tr>\n",
       "  </thead>\n",
       "  <tbody>\n",
       "    <tr>\n",
       "      <th>A</th>\n",
       "      <td>ujwal</td>\n",
       "    </tr>\n",
       "    <tr>\n",
       "      <th>B</th>\n",
       "      <td>harjeet</td>\n",
       "    </tr>\n",
       "    <tr>\n",
       "      <th>C</th>\n",
       "      <td>sahil</td>\n",
       "    </tr>\n",
       "    <tr>\n",
       "      <th>D</th>\n",
       "      <td>saransh</td>\n",
       "    </tr>\n",
       "  </tbody>\n",
       "</table>\n",
       "</div>"
      ],
      "text/plain": [
       "  Bhaichara\n",
       "A     ujwal\n",
       "B   harjeet\n",
       "C     sahil\n",
       "D   saransh"
      ]
     },
     "execution_count": 57,
     "metadata": {},
     "output_type": "execute_result"
    }
   ],
   "source": [
    "b"
   ]
  },
  {
   "cell_type": "code",
   "execution_count": 58,
   "id": "09d7535a-39a1-4ac0-b9e9-aebcb2255eaf",
   "metadata": {},
   "outputs": [],
   "source": [
    "a = [\"ujwal\",\"varsha\",\"sahil\",\"diksha\"]"
   ]
  },
  {
   "cell_type": "code",
   "execution_count": 69,
   "id": "729984b6-e649-403e-853f-83cdf9286991",
   "metadata": {},
   "outputs": [
    {
     "data": {
      "text/html": [
       "<div>\n",
       "<style scoped>\n",
       "    .dataframe tbody tr th:only-of-type {\n",
       "        vertical-align: middle;\n",
       "    }\n",
       "\n",
       "    .dataframe tbody tr th {\n",
       "        vertical-align: top;\n",
       "    }\n",
       "\n",
       "    .dataframe thead th {\n",
       "        text-align: right;\n",
       "    }\n",
       "</style>\n",
       "<table border=\"1\" class=\"dataframe\">\n",
       "  <thead>\n",
       "    <tr style=\"text-align: right;\">\n",
       "      <th></th>\n",
       "      <th>Performance</th>\n",
       "    </tr>\n",
       "  </thead>\n",
       "  <tbody>\n",
       "    <tr>\n",
       "      <th>A</th>\n",
       "      <td>ujwal</td>\n",
       "    </tr>\n",
       "    <tr>\n",
       "      <th>B</th>\n",
       "      <td>varsha</td>\n",
       "    </tr>\n",
       "    <tr>\n",
       "      <th>C</th>\n",
       "      <td>sahil</td>\n",
       "    </tr>\n",
       "    <tr>\n",
       "      <th>D</th>\n",
       "      <td>diksha</td>\n",
       "    </tr>\n",
       "  </tbody>\n",
       "</table>\n",
       "</div>"
      ],
      "text/plain": [
       "  Performance\n",
       "A       ujwal\n",
       "B      varsha\n",
       "C       sahil\n",
       "D      diksha"
      ]
     },
     "execution_count": 69,
     "metadata": {},
     "output_type": "execute_result"
    }
   ],
   "source": [
    "pd.DataFrame(a,index=[\"A B C D\".split()],columns = [\"Performance\"])"
   ]
  },
  {
   "cell_type": "code",
   "execution_count": 79,
   "id": "eb296f31-f09d-45f6-bb7a-35df548f3233",
   "metadata": {},
   "outputs": [],
   "source": [
    "d = {\n",
    "    1:[\"ujwal\",20,'netmax',65],\n",
    "    2:[\"harjeet\",21,'netmax',63],\n",
    "    3:[\"sahil\",22,'netmax',69]\n",
    "}"
   ]
  },
  {
   "cell_type": "code",
   "execution_count": 80,
   "id": "7abd8e2f-cabf-4250-9f43-262f52f10dc9",
   "metadata": {},
   "outputs": [
    {
     "data": {
      "text/html": [
       "<div>\n",
       "<style scoped>\n",
       "    .dataframe tbody tr th:only-of-type {\n",
       "        vertical-align: middle;\n",
       "    }\n",
       "\n",
       "    .dataframe tbody tr th {\n",
       "        vertical-align: top;\n",
       "    }\n",
       "\n",
       "    .dataframe thead th {\n",
       "        text-align: right;\n",
       "    }\n",
       "</style>\n",
       "<table border=\"1\" class=\"dataframe\">\n",
       "  <thead>\n",
       "    <tr style=\"text-align: right;\">\n",
       "      <th></th>\n",
       "      <th>1</th>\n",
       "      <th>2</th>\n",
       "      <th>3</th>\n",
       "    </tr>\n",
       "  </thead>\n",
       "  <tbody>\n",
       "    <tr>\n",
       "      <th>0</th>\n",
       "      <td>ujwal</td>\n",
       "      <td>harjeet</td>\n",
       "      <td>sahil</td>\n",
       "    </tr>\n",
       "    <tr>\n",
       "      <th>1</th>\n",
       "      <td>20</td>\n",
       "      <td>21</td>\n",
       "      <td>22</td>\n",
       "    </tr>\n",
       "    <tr>\n",
       "      <th>2</th>\n",
       "      <td>netmax</td>\n",
       "      <td>netmax</td>\n",
       "      <td>netmax</td>\n",
       "    </tr>\n",
       "    <tr>\n",
       "      <th>3</th>\n",
       "      <td>65</td>\n",
       "      <td>63</td>\n",
       "      <td>69</td>\n",
       "    </tr>\n",
       "  </tbody>\n",
       "</table>\n",
       "</div>"
      ],
      "text/plain": [
       "        1        2       3\n",
       "0   ujwal  harjeet   sahil\n",
       "1      20       21      22\n",
       "2  netmax   netmax  netmax\n",
       "3      65       63      69"
      ]
     },
     "execution_count": 80,
     "metadata": {},
     "output_type": "execute_result"
    }
   ],
   "source": [
    "pd.DataFrame(d)"
   ]
  },
  {
   "cell_type": "code",
   "execution_count": 85,
   "id": "af1435f5-dff1-49ee-9ca6-f35d0f9264fe",
   "metadata": {},
   "outputs": [
    {
     "data": {
      "text/html": [
       "<div>\n",
       "<style scoped>\n",
       "    .dataframe tbody tr th:only-of-type {\n",
       "        vertical-align: middle;\n",
       "    }\n",
       "\n",
       "    .dataframe tbody tr th {\n",
       "        vertical-align: top;\n",
       "    }\n",
       "\n",
       "    .dataframe thead th {\n",
       "        text-align: right;\n",
       "    }\n",
       "</style>\n",
       "<table border=\"1\" class=\"dataframe\">\n",
       "  <thead>\n",
       "    <tr style=\"text-align: right;\">\n",
       "      <th></th>\n",
       "      <th>0</th>\n",
       "      <th>1</th>\n",
       "      <th>2</th>\n",
       "      <th>3</th>\n",
       "    </tr>\n",
       "  </thead>\n",
       "  <tbody>\n",
       "    <tr>\n",
       "      <th>1</th>\n",
       "      <td>ujwal</td>\n",
       "      <td>20</td>\n",
       "      <td>netmax</td>\n",
       "      <td>65</td>\n",
       "    </tr>\n",
       "    <tr>\n",
       "      <th>2</th>\n",
       "      <td>harjeet</td>\n",
       "      <td>21</td>\n",
       "      <td>netmax</td>\n",
       "      <td>63</td>\n",
       "    </tr>\n",
       "    <tr>\n",
       "      <th>3</th>\n",
       "      <td>sahil</td>\n",
       "      <td>22</td>\n",
       "      <td>netmax</td>\n",
       "      <td>69</td>\n",
       "    </tr>\n",
       "  </tbody>\n",
       "</table>\n",
       "</div>"
      ],
      "text/plain": [
       "         0   1       2   3\n",
       "1    ujwal  20  netmax  65\n",
       "2  harjeet  21  netmax  63\n",
       "3    sahil  22  netmax  69"
      ]
     },
     "execution_count": 85,
     "metadata": {},
     "output_type": "execute_result"
    }
   ],
   "source": [
    "pd.DataFrame(d).T"
   ]
  },
  {
   "cell_type": "code",
   "execution_count": 93,
   "id": "d86e4625-8c5c-4e0e-89df-aee56468a371",
   "metadata": {},
   "outputs": [],
   "source": [
    "d = pd.DataFrame(d).T "
   ]
  },
  {
   "cell_type": "code",
   "execution_count": 96,
   "id": "b7aa4b8a-8a92-4db1-acf0-c2f580bf5657",
   "metadata": {},
   "outputs": [
    {
     "data": {
      "text/html": [
       "<div>\n",
       "<style scoped>\n",
       "    .dataframe tbody tr th:only-of-type {\n",
       "        vertical-align: middle;\n",
       "    }\n",
       "\n",
       "    .dataframe tbody tr th {\n",
       "        vertical-align: top;\n",
       "    }\n",
       "\n",
       "    .dataframe thead th {\n",
       "        text-align: right;\n",
       "    }\n",
       "</style>\n",
       "<table border=\"1\" class=\"dataframe\">\n",
       "  <thead>\n",
       "    <tr style=\"text-align: right;\">\n",
       "      <th></th>\n",
       "      <th>0</th>\n",
       "      <th>1</th>\n",
       "      <th>2</th>\n",
       "      <th>3</th>\n",
       "    </tr>\n",
       "  </thead>\n",
       "  <tbody>\n",
       "    <tr>\n",
       "      <th>A</th>\n",
       "      <td>NaN</td>\n",
       "      <td>NaN</td>\n",
       "      <td>NaN</td>\n",
       "      <td>NaN</td>\n",
       "    </tr>\n",
       "    <tr>\n",
       "      <th>B</th>\n",
       "      <td>NaN</td>\n",
       "      <td>NaN</td>\n",
       "      <td>NaN</td>\n",
       "      <td>NaN</td>\n",
       "    </tr>\n",
       "    <tr>\n",
       "      <th>C</th>\n",
       "      <td>NaN</td>\n",
       "      <td>NaN</td>\n",
       "      <td>NaN</td>\n",
       "      <td>NaN</td>\n",
       "    </tr>\n",
       "    <tr>\n",
       "      <th>D</th>\n",
       "      <td>NaN</td>\n",
       "      <td>NaN</td>\n",
       "      <td>NaN</td>\n",
       "      <td>NaN</td>\n",
       "    </tr>\n",
       "  </tbody>\n",
       "</table>\n",
       "</div>"
      ],
      "text/plain": [
       "     0    1    2    3\n",
       "A  NaN  NaN  NaN  NaN\n",
       "B  NaN  NaN  NaN  NaN\n",
       "C  NaN  NaN  NaN  NaN\n",
       "D  NaN  NaN  NaN  NaN"
      ]
     },
     "execution_count": 96,
     "metadata": {},
     "output_type": "execute_result"
    }
   ],
   "source": [
    "pd.DataFrame(d,index= \"A B C D \".split())"
   ]
  },
  {
   "cell_type": "code",
   "execution_count": null,
   "id": "58aa97fc-9aa0-4028-b837-e1a5cd88e219",
   "metadata": {},
   "outputs": [],
   "source": []
  }
 ],
 "metadata": {
  "kernelspec": {
   "display_name": "Python 3 (ipykernel)",
   "language": "python",
   "name": "python3"
  },
  "language_info": {
   "codemirror_mode": {
    "name": "ipython",
    "version": 3
   },
   "file_extension": ".py",
   "mimetype": "text/x-python",
   "name": "python",
   "nbconvert_exporter": "python",
   "pygments_lexer": "ipython3",
   "version": "3.13.5"
  }
 },
 "nbformat": 4,
 "nbformat_minor": 5
}
