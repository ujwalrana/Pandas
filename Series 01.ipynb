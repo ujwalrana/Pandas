{
 "cells": [
  {
   "cell_type": "markdown",
   "id": "0fbbdadb-6ef2-4977-b0de-f9432d22b598",
   "metadata": {},
   "source": [
    "## Pandas"
   ]
  },
  {
   "cell_type": "markdown",
   "id": "a9d32380-01dd-4a2e-817c-70afe4cc694f",
   "metadata": {},
   "source": [
    "#### Library to work with table data"
   ]
  },
  {
   "cell_type": "code",
   "execution_count": 1,
   "id": "3365111a-91bf-4d33-bb67-460458d4d053",
   "metadata": {},
   "outputs": [
    {
     "name": "stdout",
     "output_type": "stream",
     "text": [
      "Requirement already satisfied: pandas in c:\\users\\hp\\music\\anaconda.apk\\lib\\site-packages (2.2.3)\n",
      "Requirement already satisfied: numpy>=1.26.0 in c:\\users\\hp\\music\\anaconda.apk\\lib\\site-packages (from pandas) (2.1.3)\n",
      "Requirement already satisfied: python-dateutil>=2.8.2 in c:\\users\\hp\\music\\anaconda.apk\\lib\\site-packages (from pandas) (2.9.0.post0)\n",
      "Requirement already satisfied: pytz>=2020.1 in c:\\users\\hp\\music\\anaconda.apk\\lib\\site-packages (from pandas) (2024.1)\n",
      "Requirement already satisfied: tzdata>=2022.7 in c:\\users\\hp\\music\\anaconda.apk\\lib\\site-packages (from pandas) (2025.2)\n",
      "Requirement already satisfied: six>=1.5 in c:\\users\\hp\\music\\anaconda.apk\\lib\\site-packages (from python-dateutil>=2.8.2->pandas) (1.17.0)\n",
      "Note: you may need to restart the kernel to use updated packages.\n"
     ]
    }
   ],
   "source": [
    "pip install pandas"
   ]
  },
  {
   "cell_type": "code",
   "execution_count": 2,
   "id": "b20958be-a332-46d8-af80-d15753783857",
   "metadata": {},
   "outputs": [],
   "source": [
    "import numpy as np"
   ]
  },
  {
   "cell_type": "code",
   "execution_count": 3,
   "id": "04af0e89-d845-4b08-bda4-e39b257d62a4",
   "metadata": {},
   "outputs": [],
   "source": [
    "import pandas as pd"
   ]
  },
  {
   "cell_type": "code",
   "execution_count": 5,
   "id": "8deb2164-86fe-4fec-9280-0a996c48a11e",
   "metadata": {},
   "outputs": [],
   "source": [
    "li = ['shubham','abhi','akash']"
   ]
  },
  {
   "cell_type": "code",
   "execution_count": 9,
   "id": "f57840fe-3be2-4f55-a077-a73bb73a4b5c",
   "metadata": {},
   "outputs": [],
   "source": [
    "a = pd.Series(li)"
   ]
  },
  {
   "cell_type": "code",
   "execution_count": 10,
   "id": "38919686-43a2-4a71-b30a-0ff36e78dfd1",
   "metadata": {},
   "outputs": [
    {
     "data": {
      "text/plain": [
       "0    shubham\n",
       "1       abhi\n",
       "2      akash\n",
       "dtype: object"
      ]
     },
     "execution_count": 10,
     "metadata": {},
     "output_type": "execute_result"
    }
   ],
   "source": [
    "a"
   ]
  },
  {
   "cell_type": "code",
   "execution_count": 12,
   "id": "6ced345e-47b6-40d0-93b2-1d2ce5d586a5",
   "metadata": {},
   "outputs": [],
   "source": [
    "b = pd.Series(li, index=['A','B','C'])"
   ]
  },
  {
   "cell_type": "code",
   "execution_count": 13,
   "id": "1a095d7e-a67f-4ab9-a70b-040a24880f59",
   "metadata": {},
   "outputs": [
    {
     "data": {
      "text/plain": [
       "A    shubham\n",
       "B       abhi\n",
       "C      akash\n",
       "dtype: object"
      ]
     },
     "execution_count": 13,
     "metadata": {},
     "output_type": "execute_result"
    }
   ],
   "source": [
    "b"
   ]
  },
  {
   "cell_type": "code",
   "execution_count": 14,
   "id": "0bbf6595-3de1-4df0-904e-8032b71f8cd1",
   "metadata": {},
   "outputs": [],
   "source": [
    "b = pd.Series(li,index=[\"A\",\"B\",\"C\"],name = \"name\")"
   ]
  },
  {
   "cell_type": "code",
   "execution_count": 15,
   "id": "47f8e285-7004-43e2-a558-f0c82b2c68a8",
   "metadata": {},
   "outputs": [
    {
     "data": {
      "text/plain": [
       "A    shubham\n",
       "B       abhi\n",
       "C      akash\n",
       "Name: name, dtype: object"
      ]
     },
     "execution_count": 15,
     "metadata": {},
     "output_type": "execute_result"
    }
   ],
   "source": [
    "b"
   ]
  },
  {
   "cell_type": "code",
   "execution_count": 16,
   "id": "758b2c08-17aa-475e-899d-bbfce5cb1fa0",
   "metadata": {},
   "outputs": [],
   "source": [
    "c = pd.Series([\"Maths\",\"Science\",\"Hindi\"])"
   ]
  },
  {
   "cell_type": "code",
   "execution_count": 17,
   "id": "a14967a6-198d-4c73-a59a-077c5cd31913",
   "metadata": {},
   "outputs": [
    {
     "data": {
      "text/plain": [
       "0      Maths\n",
       "1    Science\n",
       "2      Hindi\n",
       "dtype: object"
      ]
     },
     "execution_count": 17,
     "metadata": {},
     "output_type": "execute_result"
    }
   ],
   "source": [
    "c"
   ]
  },
  {
   "cell_type": "code",
   "execution_count": 18,
   "id": "21c7afba-649c-48ee-8ef3-c366e87eaf9a",
   "metadata": {},
   "outputs": [
    {
     "data": {
      "text/plain": [
       "'Science'"
      ]
     },
     "execution_count": 18,
     "metadata": {},
     "output_type": "execute_result"
    }
   ],
   "source": [
    "c[1]"
   ]
  },
  {
   "cell_type": "code",
   "execution_count": 20,
   "id": "abd3a93a-d204-47dd-a25f-b4b91ef8223d",
   "metadata": {},
   "outputs": [],
   "source": [
    "c = pd.Series([\"Maths\",\"Science\",\"Hindi\"], index=[\"A\",\"B\",\"C\"])"
   ]
  },
  {
   "cell_type": "code",
   "execution_count": 22,
   "id": "d5beb8af-c546-4a1d-b28d-d6600690c711",
   "metadata": {},
   "outputs": [
    {
     "data": {
      "text/plain": [
       "A      Maths\n",
       "B    Science\n",
       "C      Hindi\n",
       "dtype: object"
      ]
     },
     "execution_count": 22,
     "metadata": {},
     "output_type": "execute_result"
    }
   ],
   "source": [
    "c"
   ]
  },
  {
   "cell_type": "code",
   "execution_count": 23,
   "id": "5501f20b-9b8f-4a3c-91e4-e893d2d17d9e",
   "metadata": {},
   "outputs": [],
   "source": [
    "c = pd.Series([\"Maths\",\"Science\",\"Hindi\"], index=[\"A\",\"B\",\"C\"], name=\"Subjects\")"
   ]
  },
  {
   "cell_type": "code",
   "execution_count": 24,
   "id": "df997068-0397-42e0-935f-a35abf27f8c4",
   "metadata": {},
   "outputs": [
    {
     "data": {
      "text/plain": [
       "A      Maths\n",
       "B    Science\n",
       "C      Hindi\n",
       "Name: Subjects, dtype: object"
      ]
     },
     "execution_count": 24,
     "metadata": {},
     "output_type": "execute_result"
    }
   ],
   "source": [
    "c"
   ]
  },
  {
   "cell_type": "code",
   "execution_count": 34,
   "id": "70b7b7a4-aaf6-45e5-8e28-de95bfcdb1a6",
   "metadata": {},
   "outputs": [],
   "source": [
    "c = pd.Series([\"Maths\",\"Science\",\"Hindi\"], index=\"A B C\".split(), name=\"Subjects\")"
   ]
  },
  {
   "cell_type": "code",
   "execution_count": 35,
   "id": "0ce00fe8-55a9-4b5c-b375-1bb5c4a92b3d",
   "metadata": {},
   "outputs": [
    {
     "data": {
      "text/plain": [
       "'Hindi'"
      ]
     },
     "execution_count": 35,
     "metadata": {},
     "output_type": "execute_result"
    }
   ],
   "source": [
    "c[\"C\"]"
   ]
  },
  {
   "cell_type": "markdown",
   "id": "e9828f91-0451-4235-96c6-437c4fb7681d",
   "metadata": {},
   "source": [
    "#### Series with dictionary"
   ]
  },
  {
   "cell_type": "code",
   "execution_count": 36,
   "id": "c4a43757-f1ab-410c-906c-8cd93b60e4a9",
   "metadata": {},
   "outputs": [],
   "source": [
    "d = {\"city\":[\"Delhi\",\"Chd\",\"Agra\"]}"
   ]
  },
  {
   "cell_type": "code",
   "execution_count": 37,
   "id": "c190013b-45d4-4e49-88fd-1b702bc40caf",
   "metadata": {},
   "outputs": [
    {
     "data": {
      "text/plain": [
       "0    Delhi\n",
       "1      Chd\n",
       "2     Agra\n",
       "Name: City, dtype: object"
      ]
     },
     "execution_count": 37,
     "metadata": {},
     "output_type": "execute_result"
    }
   ],
   "source": [
    "pd.Series(d[\"city\"], name=\"City\")"
   ]
  },
  {
   "cell_type": "markdown",
   "id": "9673f8f4-16a3-4016-985d-c5644e4f6d7f",
   "metadata": {},
   "source": [
    "#### Attributes and Methods"
   ]
  },
  {
   "cell_type": "code",
   "execution_count": 38,
   "id": "fce5f64d-b44f-414e-9d6f-3e1cff5cbf67",
   "metadata": {},
   "outputs": [
    {
     "data": {
      "text/plain": [
       "0    shubham\n",
       "1       abhi\n",
       "2      akash\n",
       "dtype: object"
      ]
     },
     "execution_count": 38,
     "metadata": {},
     "output_type": "execute_result"
    }
   ],
   "source": [
    "a"
   ]
  },
  {
   "cell_type": "code",
   "execution_count": 39,
   "id": "a50f4e31-4b24-45ec-afb5-8eca0574f1af",
   "metadata": {},
   "outputs": [],
   "source": [
    "e = pd.Series([50,20,60], index=\"A B C\".split(), name=\"marks\")"
   ]
  },
  {
   "cell_type": "code",
   "execution_count": 40,
   "id": "53f5de96-78c3-4918-adc4-0ccdd0dd0460",
   "metadata": {},
   "outputs": [
    {
     "data": {
      "text/plain": [
       "A    50\n",
       "B    20\n",
       "C    60\n",
       "Name: marks, dtype: int64"
      ]
     },
     "execution_count": 40,
     "metadata": {},
     "output_type": "execute_result"
    }
   ],
   "source": [
    "e"
   ]
  },
  {
   "cell_type": "code",
   "execution_count": 42,
   "id": "f8f17429-a44c-475a-a659-7df0923f4500",
   "metadata": {},
   "outputs": [],
   "source": [
    "f = pd.Series([5.02,2.20,6.20], index=\"A B C\".split(), name=\"input\")"
   ]
  },
  {
   "cell_type": "code",
   "execution_count": 43,
   "id": "57c483e5-c33f-441d-a28f-5e2751e1c499",
   "metadata": {},
   "outputs": [
    {
     "data": {
      "text/plain": [
       "A    5.02\n",
       "B    2.20\n",
       "C    6.20\n",
       "Name: input, dtype: float64"
      ]
     },
     "execution_count": 43,
     "metadata": {},
     "output_type": "execute_result"
    }
   ],
   "source": [
    "f"
   ]
  },
  {
   "cell_type": "code",
   "execution_count": 47,
   "id": "79cfc622-e23b-4428-a02f-b6bc6017a667",
   "metadata": {},
   "outputs": [],
   "source": [
    "g = pd.Series([True,False], index=\"A B\".split(), name=\"types\")"
   ]
  },
  {
   "cell_type": "code",
   "execution_count": 48,
   "id": "7ad26b7c-2c60-4b25-a1ed-5cd5d3e807c3",
   "metadata": {},
   "outputs": [
    {
     "data": {
      "text/plain": [
       "A     True\n",
       "B    False\n",
       "Name: types, dtype: bool"
      ]
     },
     "execution_count": 48,
     "metadata": {},
     "output_type": "execute_result"
    }
   ],
   "source": [
    "g"
   ]
  },
  {
   "cell_type": "markdown",
   "id": "c5c5e85e-e05b-4082-998c-98c43ba772a3",
   "metadata": {},
   "source": [
    "#### Methods and attributes"
   ]
  },
  {
   "cell_type": "code",
   "execution_count": 49,
   "id": "4060af82-d71b-450b-b942-da1225d26136",
   "metadata": {},
   "outputs": [
    {
     "data": {
      "text/plain": [
       "A    5.02\n",
       "B    2.20\n",
       "C    6.20\n",
       "Name: input, dtype: float64"
      ]
     },
     "execution_count": 49,
     "metadata": {},
     "output_type": "execute_result"
    }
   ],
   "source": [
    "f"
   ]
  },
  {
   "cell_type": "code",
   "execution_count": 50,
   "id": "de280dab-b019-49cb-a7b3-44db9c0207fc",
   "metadata": {},
   "outputs": [
    {
     "data": {
      "text/plain": [
       "array([5.02, 2.2 , 6.2 ])"
      ]
     },
     "execution_count": 50,
     "metadata": {},
     "output_type": "execute_result"
    }
   ],
   "source": [
    "f.values"
   ]
  },
  {
   "cell_type": "code",
   "execution_count": 51,
   "id": "d1ae9b9e-a2f2-4d28-8083-ca65bf114b99",
   "metadata": {},
   "outputs": [
    {
     "data": {
      "text/plain": [
       "Index(['A', 'B', 'C'], dtype='object')"
      ]
     },
     "execution_count": 51,
     "metadata": {},
     "output_type": "execute_result"
    }
   ],
   "source": [
    "f.index"
   ]
  },
  {
   "cell_type": "code",
   "execution_count": 53,
   "id": "3ecfe2de-a36b-4759-976a-73e002b8366c",
   "metadata": {},
   "outputs": [
    {
     "data": {
      "text/plain": [
       "dtype('float64')"
      ]
     },
     "execution_count": 53,
     "metadata": {},
     "output_type": "execute_result"
    }
   ],
   "source": [
    "f.dtype"
   ]
  },
  {
   "cell_type": "code",
   "execution_count": 54,
   "id": "e3001439-d0a8-4efe-9423-b22eb2bdde90",
   "metadata": {},
   "outputs": [
    {
     "data": {
      "text/plain": [
       "np.int64(3)"
      ]
     },
     "execution_count": 54,
     "metadata": {},
     "output_type": "execute_result"
    }
   ],
   "source": [
    "f.count()"
   ]
  },
  {
   "cell_type": "code",
   "execution_count": 55,
   "id": "944e0fac-9d48-4dc6-95dc-d7e4e1d740c7",
   "metadata": {},
   "outputs": [
    {
     "data": {
      "text/plain": [
       "np.float64(13.42)"
      ]
     },
     "execution_count": 55,
     "metadata": {},
     "output_type": "execute_result"
    }
   ],
   "source": [
    "f.sum()"
   ]
  },
  {
   "cell_type": "code",
   "execution_count": 56,
   "id": "ad9f4663-280d-472b-8f48-7ddd09ea9047",
   "metadata": {},
   "outputs": [
    {
     "data": {
      "text/plain": [
       "2.2"
      ]
     },
     "execution_count": 56,
     "metadata": {},
     "output_type": "execute_result"
    }
   ],
   "source": [
    "f.min()"
   ]
  },
  {
   "cell_type": "code",
   "execution_count": 57,
   "id": "fbb50800-b663-4331-8515-751b5d96d8ea",
   "metadata": {},
   "outputs": [
    {
     "data": {
      "text/plain": [
       "6.2"
      ]
     },
     "execution_count": 57,
     "metadata": {},
     "output_type": "execute_result"
    }
   ],
   "source": [
    "f.max()"
   ]
  },
  {
   "cell_type": "code",
   "execution_count": 58,
   "id": "d990e1f6-ff04-4655-a630-9e39b38b7066",
   "metadata": {},
   "outputs": [
    {
     "data": {
      "text/plain": [
       "(3,)"
      ]
     },
     "execution_count": 58,
     "metadata": {},
     "output_type": "execute_result"
    }
   ],
   "source": [
    "f.shape"
   ]
  },
  {
   "cell_type": "code",
   "execution_count": 59,
   "id": "958755c6-ad5a-4ac0-b3b4-143a124225b6",
   "metadata": {},
   "outputs": [
    {
     "data": {
      "text/plain": [
       "3"
      ]
     },
     "execution_count": 59,
     "metadata": {},
     "output_type": "execute_result"
    }
   ],
   "source": [
    "f.size"
   ]
  },
  {
   "cell_type": "code",
   "execution_count": 60,
   "id": "c5572fed-6540-4d8f-a704-289841257c4a",
   "metadata": {},
   "outputs": [
    {
     "data": {
      "text/plain": [
       "A    5.02\n",
       "B    2.20\n",
       "C    6.20\n",
       "Name: input, dtype: float64"
      ]
     },
     "execution_count": 60,
     "metadata": {},
     "output_type": "execute_result"
    }
   ],
   "source": [
    "f"
   ]
  },
  {
   "cell_type": "code",
   "execution_count": 61,
   "id": "8f75a903-5cee-42e9-8364-7d65dc570edf",
   "metadata": {},
   "outputs": [
    {
     "data": {
      "text/plain": [
       "A    10.02\n",
       "B     7.20\n",
       "C    11.20\n",
       "Name: input, dtype: float64"
      ]
     },
     "execution_count": 61,
     "metadata": {},
     "output_type": "execute_result"
    }
   ],
   "source": [
    "f + 5"
   ]
  },
  {
   "cell_type": "code",
   "execution_count": 63,
   "id": "4d13472d-fa1a-482c-8ee7-3a892e39646c",
   "metadata": {},
   "outputs": [
    {
     "data": {
      "text/plain": [
       "A    10.04\n",
       "B     4.40\n",
       "C    12.40\n",
       "Name: input, dtype: float64"
      ]
     },
     "execution_count": 63,
     "metadata": {},
     "output_type": "execute_result"
    }
   ],
   "source": [
    "f * 2"
   ]
  },
  {
   "cell_type": "code",
   "execution_count": 64,
   "id": "a3336a34-0453-4992-a336-23c16541e4bb",
   "metadata": {},
   "outputs": [
    {
     "data": {
      "text/plain": [
       "A    5.02\n",
       "B    2.20\n",
       "C    6.20\n",
       "Name: input, dtype: float64"
      ]
     },
     "execution_count": 64,
     "metadata": {},
     "output_type": "execute_result"
    }
   ],
   "source": [
    "f"
   ]
  },
  {
   "cell_type": "code",
   "execution_count": null,
   "id": "41ae9d5e-9194-4877-929b-05694f66e40c",
   "metadata": {},
   "outputs": [],
   "source": []
  }
 ],
 "metadata": {
  "kernelspec": {
   "display_name": "Python 3 (ipykernel)",
   "language": "python",
   "name": "python3"
  },
  "language_info": {
   "codemirror_mode": {
    "name": "ipython",
    "version": 3
   },
   "file_extension": ".py",
   "mimetype": "text/x-python",
   "name": "python",
   "nbconvert_exporter": "python",
   "pygments_lexer": "ipython3",
   "version": "3.13.5"
  }
 },
 "nbformat": 4,
 "nbformat_minor": 5
}
